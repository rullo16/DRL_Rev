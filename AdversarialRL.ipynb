{
 "cells": [
  {
   "cell_type": "markdown",
   "metadata": {},
   "source": [
    "# Adversarial Reinforcement Learning"
   ]
  },
  {
   "cell_type": "markdown",
   "metadata": {},
   "source": [
    "subfield of RL designed to train policies that are robust to adversarial conditions, disturbances, and uncertainty. Unlike traditional RL, where environments are typically static or flowwo predictable distributions, adversarial RL considers scenarios where an adversary deliberately tries to deceive, distract or mislead the learning agent.\n",
    "In real-world environments, perfect knowledge and ideal conditions rarely exist, an RL agent might encounter sensor noise and inaccuracies, unexpected environment dynamics and malicious actor actively attemputing to compromise the agent's performance. Training on adversarial scenarios helps them generalize better, becoming robust,reliable and safe."
   ]
  },
  {
   "cell_type": "markdown",
   "metadata": {},
   "source": [
    "## Background"
   ]
  },
  {
   "cell_type": "markdown",
   "metadata": {},
   "source": [
    "Adversarual RL extends traditional RL by introducing an adversary (also called \"disturbance agent\" or \"adversarial policy\") whose goal is to minimize the reward of the primary agent and introduce worse-case scenarios intentionally, pushing the primary agent to learn more roust strategies.\n",
    "The Main components of adversarial RL are:\n",
    "- **Protagonist**(Primary Agent): Attempts to maximize its reward by learning a policy that can perform well in the presence of adversarial disturbances.\n",
    "- **Adversary**(Advresarial Agent): Attempts to minimize the reward of the protagonist by introducing disturbances or perturbations to the environment."
   ]
  },
  {
   "cell_type": "markdown",
   "metadata": {},
   "source": [
    "## Theory"
   ]
  },
  {
   "cell_type": "markdown",
   "metadata": {},
   "source": [
    "Adversarial RL can be seen as solving a two-player zero-sum game. Formally we consider an MDP defined as:\n",
    "- State space $S$\n",
    "- Action space $A$\n",
    "- Adversarial action space $U$\n",
    "- Transition dynamics $P(s'|s,a, u)$\n",
    "- Reward function $R(s,a,u)$\n",
    "The optimization objective becomes a mimimax problem:\n",
    "$$\\max_{\\pi_\\theta}\\min_{pi_\\phi} \\mathbb{E} [\\sum_{t=0}^{\\infty}\\gamma^t r(s_t, a_t, u_t)]$$\n",
    "Where:\n",
    "- $\\pi_\\theta$ is the policy of the protagonist\n",
    "- $\\pi_\\phi$ is the policy of the adversary\n",
    "- $r(s_t, a_t, u_t)$ is the reward function\n",
    "- $\\gamma$ is the discount factor"
   ]
  },
  {
   "cell_type": "markdown",
   "metadata": {},
   "source": [
    "## Mathematical Formulation"
   ]
  },
  {
   "cell_type": "markdown",
   "metadata": {},
   "source": [
    "Let:\n",
    "- $\\pi_\\theta(a|s)$ be the policy of the protagonist parameterized by $\\theta$\n",
    "- $\\pi_\\phi(u|s)$ be the policy of the adversary parameterized by $\\phi$\n",
    "The value function in an adversarial context becomes the minimax value function:\n",
    "$$V^{\\pi_\\theta,\\pi_\\phi}(s) = \\mathbb{E}[\\sum_{t=0}^{\\infty}\\gamma^t r(s_t, a_t, u_t) | s_0 = s, a_t \\sim \\pi_\\theta(a|s_t), u_t \\sim \\pi_\\phi(u|s_t)]$$\n",
    "The minimax optimal policy is computed as:\n",
    "$$\\pi^*_\\theta = \\arg\\max_{\\pi_\\theta} \\min_{\\pi_\\phi} V^{\\pi_\\theta,\\pi_\\phi}(s)$$\n",
    "The adversary simultaneously seeks:\n",
    "$$\\pi^*_\\phi = \\arg\\min_{\\pi_\\phi} V^{\\pi_\\theta,\\pi_\\phi}(s)$$"
   ]
  },
  {
   "cell_type": "markdown",
   "metadata": {},
   "source": [
    "The general training scheme iteratively solves a minimax game:\n",
    "1. Protagonist update:\n",
    "$$\\theta \\leftarrow \\theta + \\alpha_\\theta \\nabla_\\theta V^{\\pi_\\theta,\\pi_\\phi}(s)$$\n",
    "2. Adversary update:\n",
    "$$\\phi \\leftarrow \\phi - \\alpha_\\phi \\nabla_\\phi V^{\\pi_\\theta,\\pi_\\phi}(s)$$\n",
    "Similar to Generative Adversarial Networks but adapted for RL."
   ]
  },
  {
   "cell_type": "markdown",
   "metadata": {},
   "source": [
    "## Implementation"
   ]
  },
  {
   "cell_type": "code",
   "execution_count": 1,
   "metadata": {},
   "outputs": [],
   "source": [
    "import torch\n",
    "import torch.nn as nn\n",
    "import torch.optim as optim\n",
    "import numpy as np\n",
    "import gymnasium as gym\n",
    "import matplotlib.pyplot as plt\n",
    "\n",
    "device = torch.device(\"cuda\" if torch.cuda.is_available() else \"cpu\")"
   ]
  },
  {
   "cell_type": "code",
   "execution_count": 2,
   "metadata": {},
   "outputs": [],
   "source": [
    "class Actor(nn.Module):\n",
    "    def __init__(self, obs_dim, act_dim):\n",
    "        super().__init__()\n",
    "        self.net = nn.Sequential(\n",
    "            nn.Linear(obs_dim, 128), nn.ReLU(),\n",
    "            nn.Linear(128, act_dim), nn.Tanh()\n",
    "        )\n",
    "\n",
    "    def forward(self, x):\n",
    "        return self.net(x)\n",
    "\n",
    "class Critic(nn.Module):\n",
    "    def __init__(self, obs_dim):\n",
    "        super().__init__()\n",
    "        self.net = nn.Sequential(\n",
    "            nn.Linear(obs_dim, 128), nn.ReLU(),\n",
    "            nn.Linear(128, 1)\n",
    "        )\n",
    "\n",
    "    def forward(self, x):\n",
    "        return self.net(x)"
   ]
  },
  {
   "cell_type": "code",
   "execution_count": 3,
   "metadata": {},
   "outputs": [],
   "source": [
    "class AdversarialAgent:\n",
    "    def __init__(self, obs_dim, act_dim):\n",
    "        self.actor = Actor(obs_dim, act_dim).to(device)\n",
    "        self.critic = Critic(obs_dim).to(device)\n",
    "\n",
    "        self.adversary = Actor(obs_dim, act_dim).to(device)\n",
    "\n",
    "        self.actor_optim = optim.Adam(self.actor.parameters(), lr=1e-3)\n",
    "        self.critic_optim = optim.Adam(self.critic.parameters(), lr=1e-3)\n",
    "        self.adversary_optim = optim.Adam(self.adversary.parameters(), lr=1e-3)\n",
    "\n",
    "    def select_action(self, obs):\n",
    "        state = torch.tensor(obs, dtype=torch.float32).unsqueeze(0).to(device)\n",
    "        action = self.actor(state)\n",
    "        return action.cpu().detach().numpy()[0]\n",
    "    \n",
    "    def select_adversarial_action(self, obs):\n",
    "        state = torch.tensor(obs, dtype=torch.float32).unsqueeze(0).to(device)\n",
    "        action = self.adversary(state)\n",
    "        return action.cpu().detach().numpy()[0]\n",
    "    \n",
    "    def update(self, state, acton, adv_action, reward, next_state, done):\n",
    "        state = torch.tensor(state, dtype=torch.float32).unsqueeze(0).to(device)\n",
    "        next_state = torch.tensor(next_state, dtype=torch.float32).unsqueeze(0).to(device)\n",
    "        action = torch.tensor(acton, dtype=torch.float32).unsqueeze(0).to(device)\n",
    "        adv_action = torch.tensor(adv_action, dtype=torch.float32).unsqueeze(0).to(device)\n",
    "        reward = torch.tensor([reward], dtype=torch.float32).to(device)\n",
    "        done = torch.tensor([done], dtype=torch.float32).to(device)\n",
    "\n",
    "        target = reward + (1-done) * self.critic(next_state) * 0.99\n",
    "        critic_loss = nn.functional.mse_loss(self.critic(state), target.detach())\n",
    "        self.critic_optim.zero_grad()\n",
    "        critic_loss.backward()\n",
    "        self.critic_optim.step()\n",
    "\n",
    "        actor_loss = -self.critic(state).mean()\n",
    "        self.actor_optim.zero_grad()\n",
    "        actor_loss.backward()\n",
    "        self.actor_optim.step()\n",
    "\n",
    "        adv_loss = self.critic(state).mean()\n",
    "        self.adversary_optim.zero_grad()\n",
    "        adv_loss.backward()\n",
    "        self.adversary_optim.step()"
   ]
  },
  {
   "cell_type": "code",
   "execution_count": 5,
   "metadata": {},
   "outputs": [
    {
     "name": "stdout",
     "output_type": "stream",
     "text": [
      "Episode: 0, Reward: -1676.3489585899285\n",
      "Episode: 10, Reward: -1773.4060905838562\n",
      "Episode: 20, Reward: -1071.1182137771543\n",
      "Episode: 30, Reward: -1576.5271136051874\n",
      "Episode: 40, Reward: -1271.779120733714\n",
      "Episode: 50, Reward: -1347.6627652290974\n",
      "Episode: 60, Reward: -1120.5790176693906\n",
      "Episode: 70, Reward: -1331.5487112451774\n",
      "Episode: 80, Reward: -1728.6105062371496\n",
      "Episode: 90, Reward: -1329.2279054969647\n",
      "Episode: 100, Reward: -1431.5643013394813\n",
      "Episode: 110, Reward: -1575.1291280136559\n",
      "Episode: 120, Reward: -1197.5659828038356\n",
      "Episode: 130, Reward: -1315.0775416679232\n",
      "Episode: 140, Reward: -1325.9587353181023\n",
      "Episode: 150, Reward: -862.7948602036139\n",
      "Episode: 160, Reward: -1491.9732736909107\n",
      "Episode: 170, Reward: -1344.9335411008465\n",
      "Episode: 180, Reward: -1172.5271572425236\n",
      "Episode: 190, Reward: -949.536672963668\n"
     ]
    },
    {
     "data": {
      "image/png": "[encoded data removed]",
      "text/plain": [
       "<Figure size 640x480 with 1 Axes>"
      ]
     },
     "metadata": {},
     "output_type": "display_data"
    }
   ],
   "source": [
    "env = gym.make(\"Pendulum-v1\")\n",
    "agent = AdversarialAgent(env.observation_space.shape[0], env.action_space.shape[0])\n",
    "num_episodes = 200\n",
    "rewards = []\n",
    "\n",
    "for ep in range(num_episodes):\n",
    "    state, _ = env.reset()\n",
    "    ep_reward = 0\n",
    "\n",
    "    for step in range(200):\n",
    "        action = agent.select_action(state)\n",
    "        adv_action = agent.select_adversarial_action(state)\n",
    "\n",
    "        combined_action = np.clip(action + 0.2 * adv_action, -1, 1)\n",
    "        next_state, reward, terminated, truncated, _ = env.step(combined_action)\n",
    "        done = terminated or truncated\n",
    "\n",
    "        agent.update(state, action, adv_action, reward, next_state, done)\n",
    "        state = next_state\n",
    "        ep_reward += reward\n",
    "        if done: break\n",
    "\n",
    "    rewards.append(ep_reward)\n",
    "    if ep % 10 == 0:\n",
    "        print(f\"Episode: {ep}, Reward: {ep_reward}\")\n",
    "\n",
    "plt.plot(rewards)\n",
    "plt.show()\n",
    "env.close()"
   ]
  },
  {
   "cell_type": "markdown",
   "metadata": {},
   "source": [
    "## Next Steps"
   ]
  },
  {
   "cell_type": "markdown",
   "metadata": {},
   "source": [
    "### Integrate with DreamerV2"
   ]
  },
  {
   "cell_type": "code",
   "execution_count": 9,
   "metadata": {},
   "outputs": [],
   "source": [
    "class IntrinsicReward(nn.Module):\n",
    "    def __init__(self, latent_dim, intrinsic_scale=0.1):\n",
    "        super().__init__()\n",
    "        self.intrinsic_scale = intrinsic_scale\n",
    "        self.fc = nn.Linear(latent_dim, 1)\n",
    "\n",
    "    def forward(self, z_pred, z_next):\n",
    "        error = (z_next - z_pred)**2  # shape: [batch_size, latent_dim]\n",
    "        intrinsic_reward = self.fc(error)  # Now correctly shaped\n",
    "        return self.intrinsic_scale * intrinsic_reward"
   ]
  },
  {
   "cell_type": "code",
   "execution_count": 10,
   "metadata": {},
   "outputs": [],
   "source": [
    "class ConvEncoder(nn.Module):\n",
    "    def __init__(self, image_shape, latent_dim):\n",
    "        super().__init__()\n",
    "        self.encoder = nn.Sequential(\n",
    "            nn.Conv2d(3, 32, kernel_size=4, stride=2), nn.ReLU(),\n",
    "            nn.Conv2d(32, 64, kernel_size=4, stride=2), nn.ReLU(),\n",
    "            nn.Conv2d(64, 128, kernel_size=4, stride=2), nn.ReLU(),\n",
    "        )\n",
    "\n",
    "        dummy_input = torch.zeros(1, *image_shape)\n",
    "        with torch.no_grad():\n",
    "            flat_dim = self.encoder(dummy_input).view(1, -1).shape[1]\n",
    "\n",
    "        # This line fixes the error:\n",
    "        self.fc = nn.Linear(flat_dim, latent_dim)\n",
    "\n",
    "    def forward(self, x):\n",
    "        x = x / 255.0\n",
    "        x = self.encoder(x)\n",
    "        x = x.view(x.size(0), -1)\n",
    "        return self.fc(x)"
   ]
  },
  {
   "cell_type": "code",
   "execution_count": 11,
   "metadata": {},
   "outputs": [],
   "source": [
    "class RSSM(nn.Module):\n",
    "    def __init__(self, latent_dim, action_dim):\n",
    "        super().__init__()\n",
    "        self.gru = nn.GRUCell(latent_dim + action_dim, latent_dim)\n",
    "        self.mu_layer = nn.Linear(latent_dim, latent_dim)\n",
    "        self.logvar_layer = nn.Linear(latent_dim, latent_dim)\n",
    "\n",
    "    def forward(self, h, z, a):\n",
    "        if a.dim() == 1:\n",
    "            a = a.unsqueeze(0)\n",
    "        if h.dim() == 1:\n",
    "            h = h.unsqueeze(0)\n",
    "\n",
    "        x = torch.cat([z, a], dim=-1)\n",
    "        h_next = self.gru(x, h)\n",
    "        mu, logvar = self.mu_layer(h_next), self.logvar_layer(h_next)\n",
    "        z_next = mu + torch.exp(0.5 * logvar) * torch.randn_like(mu)\n",
    "\n",
    "        return h_next, z_next, mu, logvar"
   ]
  },
  {
   "cell_type": "code",
   "execution_count": 12,
   "metadata": {},
   "outputs": [],
   "source": [
    "class AdverarialRSSM(nn.Module):\n",
    "    def __init__(self, latent_dim, action_dim):\n",
    "        super().__init__()\n",
    "        self.rssm = RSSM(latent_dim, action_dim)\n",
    "        self.adversary = nn.Sequential(\n",
    "            nn.Linear(latent_dim, 128), nn.ReLU(),\n",
    "            nn.Linear(128, action_dim), nn.Tanh()\n",
    "        )\n",
    "\n",
    "    def forward(self, h,z,a,adversarial=False):\n",
    "        h_next, z_next, mu, logvar = self.rssm(h,z,a)\n",
    "        if adversarial:\n",
    "            perturbation = self.adversary(z_next)\n",
    "            z_next_adv = z_next + 0.1* perturbation\n",
    "            return h_next, z_next_adv, mu, logvar\n",
    "        return h_next, z_next, mu, logvar"
   ]
  },
  {
   "cell_type": "code",
   "execution_count": 16,
   "metadata": {},
   "outputs": [],
   "source": [
    "class AdversarialDreamerV2Agent:\n",
    "\n",
    "    def __init__(self, image_shape, action_dim, latent_dim=32):\n",
    "        self.image_shape = image_shape\n",
    "        self.action_dim = action_dim\n",
    "        self.latent_dim = latent_dim\n",
    "        self.encoder = ConvEncoder(image_shape, latent_dim).to(device)\n",
    "        self.rssm = AdverarialRSSM(latent_dim, action_dim).to(device)\n",
    "        self.actor = Actor(latent_dim, action_dim).to(device)\n",
    "        self.critic = Critic(latent_dim).to(device)\n",
    "        self.intrinsic_reward = IntrinsicReward(latent_dim).to(device)\n",
    "\n",
    "        self.optimizer = optim.Adam(self.parameters(), lr=1e-4)\n",
    "\n",
    "    def parameters(self):\n",
    "        return list(self.encoder.parameters()) + list(self.rssm.parameters()) + list(self.actor.parameters()) + list(self.critic.parameters()) + list(self.intrinsic_reward.parameters())\n",
    "    def clone(self):\n",
    "        clone = AdversarialDreamerV2Agent(self.image_shape, self.action_dim, self.latent_dim)\n",
    "        clone.load_state_dict(self.state_dict())\n",
    "        return clone\n",
    "    def state_dict(self):\n",
    "        return {\n",
    "            'encoder': self.encoder.state_dict(),\n",
    "            'rssm': self.rssm.state_dict(),\n",
    "            'actor': self.actor.state_dict(),\n",
    "            'critic': self.critic.state_dict(),\n",
    "            'intrinsic_reward': self.intrinsic_reward.state_dict()\n",
    "        }\n",
    "    \n",
    "    def load_state_dict(self, state_dict):\n",
    "        self.encoder.load_state_dict(state_dict['encoder'])\n",
    "        self.rssm.load_state_dict(state_dict['rssm'])\n",
    "        self.actor.load_state_dict(state_dict['actor'])\n",
    "        self.critic.load_state_dict(state_dict['critic'])\n",
    "        self.intrinsic_reward.load_state_dict(state_dict['intrinsic_reward'])\n",
    "\n",
    "    def adapt(self, obs_seq, action_seq, reward_seq, steps=1, lr=1e-3):\n",
    "        adapted = self.clone()\n",
    "        optimizer = optim.Adam(adapted.parameters(), lr=lr)\n",
    "\n",
    "        for _ in range(steps):\n",
    "            loss = adapted.compute_adversarial_loss(obs_seq, action_seq, reward_seq)\n",
    "            optimizer.zero_grad()\n",
    "            loss.backward()\n",
    "            optimizer.step()\n",
    "\n",
    "        return adapted\n",
    "    \n",
    "    def compute_adversarial_loss(self, obs_seq, action_seq, reward_seq):\n",
    "        z = self.encoder(obs_seq[0])\n",
    "        h = torch.zeros_like(z).to(device)\n",
    "\n",
    "        total_loss = 0.0\n",
    "        for t in range(len(action_seq)):\n",
    "            h, z_pred, _, _ = self.rssm(h, z, action_seq[t], adversarial=False)\n",
    "            z_next = self.encoder(obs_seq[t + 1])\n",
    "\n",
    "            prediction_loss = ((z_next - z_pred) ** 2).mean()\n",
    "\n",
    "            h_adv, z_pred_adv, _, _ = self.rssm(h, z, action_seq[t], adversarial=True)\n",
    "            adversarial_loss = ((z_next - z_pred_adv) ** 2).mean()\n",
    "\n",
    "            intrinsic_reward = self.intrinsic_reward(z_pred, z_next).mean()\n",
    "            total_loss += prediction_loss - adversarial_loss + intrinsic_reward\n",
    "\n",
    "            z = z_next\n",
    "\n",
    "        return total_loss"
   ]
  },
  {
   "cell_type": "code",
   "execution_count": null,
   "metadata": {},
   "outputs": [],
   "source": [
    "env = gym.make(\"CarRacing-v3\")\n",
    "agent = AdversarialDreamerV2Agent((3,96,96), action_dim=3)\n",
    "\n",
    "num_episodes = 1000\n",
    "for ep in range(num_episodes):\n",
    "    obs, _ = env.reset()\n",
    "    obs_seq, action_seq, reward_seq = [], [], []\n",
    "    obs_seq.append(torch.tensor(obs, dtype=torch.float32).permute(2,0,1).unsqueeze(0).to(device))\n",
    "\n",
    "    for step in range(50):\n",
    "        action = env.action_space.sample()\n",
    "        next_obs, reward, done, _, _ = env.step(action)\n",
    "\n",
    "        obs_seq.append(torch.tensor(next_obs, dtype=torch.float32).permute(2,0,1).unsqueeze(0).to(device))\n",
    "        action_seq.append(torch.tensor(action, dtype=torch.float32).unsqueeze(0).to(device))\n",
    "        reward_seq.append(torch.tensor([reward], dtype=torch.float32).to(device))\n",
    "\n",
    "        if done: break\n",
    "\n",
    "    agent.adapt(obs_seq, action_seq, reward_seq)\n",
    "\n",
    "    if ep % 10 == 0:\n",
    "        print(f\"Episode {ep} completed.\")"
   ]
  },
  {
   "cell_type": "markdown",
   "metadata": {},
   "source": [
    "### Adversarial Strategies"
   ]
  },
  {
   "cell_type": "markdown",
   "metadata": {},
   "source": [
    "1. **Observation-space Adversaries**\n",
    "Perturb the obervations received by the agent, mimicking sensor errors or adversarial attacks.\n",
    "- **FGSM (Fast Gradient Sing Method)**:Small perturbations added in the direction of increasing loss:\n",
    "$$obs_{adv} = obs + \\epsilon \\cdot sign(\\nabla_{obs} L(obs, \\theta))$$\n",
    "- **PGD (Projected Gradient Descent)**: Iteratively apply small perturbations while projecting back into allowed ranges."
   ]
  },
  {
   "cell_type": "markdown",
   "metadata": {},
   "source": [
    "2.**Action-space Adversaries**\n",
    "Introduce perturbations to actions, simulating external disturbances or actuator noise, Train adversarial policy that attempts to degrade performance:\n",
    "$$a_{adv} = a + \\alpha \\cdot AdversarialPolicy(a, s)$$\n",
    "Alternatively, add structured noise (Ornstein-Uhlenbeck) to actions."
   ]
  },
  {
   "cell_type": "markdown",
   "metadata": {},
   "source": [
    "3. **Latent-space Adversaries**\n",
    "Modify latent representations, thereby attacking the agent's internal reasoning proess.\n",
    "Learn a NN-based adversary that produces perturbations in latent embeddings.\n",
    "$$z_{adv} = z + \\beta \\cdot AdversarialPolicy(z, s)$$"
   ]
  },
  {
   "cell_type": "markdown",
   "metadata": {},
   "source": [
    "4. **Environment Dynamics Adversaries**\n",
    "Change environment transitions. creating worst-case scenarios in dynamics modeling.\n",
    "Adjust the environment model to simulate harder transitions:\n",
    "$$s_{t+1} = sim P_{\\phi}(s_{t+1}|s_t, a_t) + Adversary(s_t,a_t)$$"
   ]
  },
  {
   "cell_type": "markdown",
   "metadata": {},
   "source": [
    "#### Math"
   ]
  },
  {
   "cell_type": "markdown",
   "metadata": {},
   "source": [
    "For a general adversarial perturbation $\\delta$:\n",
    "- Original state/action/latent: $x$\n",
    "- Perturbation strength: $\\epsilon$\n",
    "- Adversary function: $Adv_\\phi(x)$\n",
    "Teh adversrially perturbated variable:\n",
    "$$x_{adv} = x + \\epsilon \\cdot Adv_\\phi(x)$$\n",
    "Typically, teh adverary is trained via minimax  optimization:\n",
    "$$\\min_\\phi \\max_\\theta J(\\theta, \\phi) = \\mathbb{E}[R(\\pi_\\theta(x_{adv}),x_{adv})]$$"
   ]
  },
  {
   "cell_type": "markdown",
   "metadata": {},
   "source": []
  }
 ],
 "metadata": {
  "kernelspec": {
   "display_name": "mlagents",
   "language": "python",
   "name": "python3"
  },
  "language_info": {
   "codemirror_mode": {
    "name": "ipython",
    "version": 3
   },
   "file_extension": ".py",
   "mimetype": "text/x-python",
   "name": "python",
   "nbconvert_exporter": "python",
   "pygments_lexer": "ipython3",
   "version": "3.10.12"
  }
 },
 "nbformat": 4,
 "nbformat_minor": 2
}
