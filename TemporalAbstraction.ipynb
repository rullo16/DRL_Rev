{
 "cells": [
  {
   "cell_type": "markdown",
   "metadata": {},
   "source": [
    "# Transformer-Based Temporal Abstraction for Option Discovery\n",
    "(Soft Options with Self-Attention)"
   ]
  },
  {
   "cell_type": "markdown",
   "metadata": {},
   "source": [
    "In RL, temporally extended ations or options provide a way to learn stuctured, high-level behavior. But traditional methods (like Option-Critic) often use separate networks, manual termination conditions, and limited memory.\n",
    "**What if we left the agent attend across time to discover ans switch options softly, without needing hard boundaries?**\n",
    "That's where Transformers come in.\n",
    "Transformers, originally designed for NLP, can model sequential dependencies and selectively attend to past states and skills. When used in RL, they enable:\n",
    "- Flexible temporal abstractions\n",
    "- Skill reuse\n",
    "- Implicit option switching\n",
    "- Generalization over tasks\n"
   ]
  },
  {
   "cell_type": "markdown",
   "metadata": {},
   "source": [
    "## Background and Fundamental Concepts"
   ]
  },
  {
   "cell_type": "markdown",
   "metadata": {},
   "source": [
    "### Options in Hierarchical RL (HRL)\n",
    "In the Options Framework, the idea is to extend primitive actions into temporally extended behaviors (options).\n",
    "An option o is defined as a 3-tuple:\n",
    "$$ \\mathcal{O} = (\\mathcal{I}_o, \\pi_o(a|s), \\beta_o(s)) $$\n",
    "where:\n",
    "- $\\mathcal{I}_o$ is the initiation set, the states where the option can be initiated.\n",
    "- $\\pi_o(a|s)$ is the policy for the option, which can be a stochastic policy.\n",
    "- $\\beta_o(s)$ is the termination condition, which determines when the option should stop executing.\n",
    "\n",
    "In HRL, a high-level policy selects options, and a low-level policy executes them.\n",
    "This allows:\n",
    "- Temporal abstractions: decisions over multiple timesteps\n",
    "- Modularity and reuse: options can be shared across tasks\n",
    "- Efficient exploration: abstract skills guide behavior"
   ]
  },
  {
   "cell_type": "markdown",
   "metadata": {},
   "source": [
    "### Limitations of Classical Options\n",
    "DEspite their theoretical elegance, traditional options struggle with:\n",
    "- Discrete option selection: limited flexibility and differentiability\n",
    "- Manually designed terminations: hard to optimize in gradient-based frameworks\n",
    "- Shallow memory: no capacity to attend to long-term past.\n",
    "\n",
    "We seek soft, differentiable, and temporally-aware versions of options."
   ]
  },
  {
   "cell_type": "markdown",
   "metadata": {},
   "source": [
    "### Temporal Abstraction as Latent Variables\n",
    "Modern RL frameworks (like DIAYN, DADS, VALOR, TRLR) represent skills as latent variables instead of hard-coded options.\n",
    "This variables:\n",
    "- Are continuous or discrete\n",
    "- Can be sampled from a prior\n",
    "- Are used to condition the policy\n",
    "- Can vary slowly over time\n",
    "\n",
    "We want to let the agent itself decide when to change skills, and what skills to use in a differentiable, data-driven way.\n"
   ]
  },
  {
   "cell_type": "markdown",
   "metadata": {},
   "source": [
    "### Transformers in RL\n",
    "Transformers revolutionized NLP by allowing models to attend over arbitrary parts of a sequence.\n",
    "In RL, Transformers offer:\n",
    "In RL, transformers offer:\n",
    "- Attention over temporal sequences\n",
    "- Flexible memory - attend over relevant past events\n",
    "- Position-aware behavior- incorporate when things happened\n",
    "Recent transformer-based RL methods include:\n",
    "- Decision Transformer (DT) - model RL as sequence modeling (return, state, action)\n",
    "- Trajectory Transformer GATO,STRL, TRLR - leverage transformer models for general agent behavior.\n",
    "In our case we use them to:\n",
    "- Model latent skill transitions over time\n",
    "- Allow soft switching between options\n",
    "- Represent options as attention-influenced latent embedding"
   ]
  },
  {
   "cell_type": "markdown",
   "metadata": {},
   "source": [
    "### Sequence Modeling for Options\n",
    "Rather than selecting a fixed option and sticking with it until termination, we'll:\n",
    "- feed a history of latent states and skills into a Transformer.\n",
    "- let the transformer choose behaviors conditionally at each step\n",
    "- Learn which latent skill $z_t$ to use at time t, based on history $x_{1:t-1}$\n",
    "This leads to implicit options like:\n",
    "- Adapt flexibly to state history\n",
    "- Persist or switch as needed\n",
    "- Are learned end-to-end\n",
    "\n"
   ]
  },
  {
   "cell_type": "markdown",
   "metadata": {},
   "source": [
    "## Theoretical Foundations"
   ]
  },
  {
   "cell_type": "markdown",
   "metadata": {},
   "source": [
    "Use Transformer Encoder to process sequences of latent states and skill codes.\n",
    "- **Input sequence**:\n",
    "Each input token at time $t$ is a tuple:\n",
    "$$x_t = [f(s_t); z_t; a_{t-1}; r_{t-1}]$$\n",
    "where:\n",
    "    - $f(s_t)$ latent representation of current state\n",
    "    - $z_t$ current option (soft latent skill embedding)\n",
    "    - $a_{t-1}, r_{t-1}$ previous action and reward\n",
    "\n",
    "- **Attention Layer**:\n",
    "For a sequence $X = [x_1, ..., x_T]$, we compute attention as:\n",
    "$$Attn(Q,K,V) = softmax(\\frac{QK^T}{\\sqrt{d}})V$$\n",
    "    - Each timestep attends to previous time steps.\n",
    "    - This allows modeling when to switch skills implicitly.\n",
    "\n",
    "- **Skill Embeddings**:\n",
    "Each skill $z\\in \\mathbb{R}^d$ is a learned embedding.\n",
    "We can:\n",
    "    - Sample it from a categorical distribution $z \\sim p(z)$\n",
    "    - Learn it through a discriminator (as in DIAYN)\n",
    "    - Or jointly optimize though the RL loss\n",
    "\n",
    "- **Action Selection**:\n",
    "Final output is an action distribution:\n",
    "$$a_t \\sim \\pi(a_t|Transformer(x_{1:t}))$$\n",
    "The action head receives the last hidden state and maps it to:\n",
    "    - Mean + Std for continuous actions(Gaussian)\n",
    "    - Or logits for discrete actions\n",
    "\n",
    "- **Learning Objective**:\n",
    "Use standard RL losses:\n",
    "    - Critic (value) Loss:\n",
    "    $$L_Q = (Q(s,a)-[r-\\gamma \\min(Q'(s',a'))])^2$$\n",
    "    - Policy loss:\n",
    "    $$L_\\pi = \\mathbb{E}_s[\\alpha \\log \\pi(a|s) - \\min(Q_1,Q_2)]$$\n",
    "    - Optional: Skill entropy maximization, MI skill regularization, etc.."
   ]
  },
  {
   "cell_type": "markdown",
   "metadata": {},
   "source": [
    "## Implementation"
   ]
  },
  {
   "cell_type": "code",
   "execution_count": 1,
   "metadata": {},
   "outputs": [],
   "source": [
    "import torch\n",
    "import torch.nn as nn\n",
    "import torch.nn.functional as F\n",
    "import torch.optim as optim\n",
    "import numpy as np\n",
    "import gymnasium as gym"
   ]
  },
  {
   "cell_type": "code",
   "execution_count": 9,
   "metadata": {},
   "outputs": [],
   "source": [
    "class ConvEncoder(nn.Module):\n",
    "    def __init__(self, image_shape, latent_dim):\n",
    "        super().__init__()\n",
    "        c,h,w = image_shape\n",
    "        self.conv = nn.Sequential(\n",
    "            nn.Conv2d(c,32,8,4), nn.ReLU(),\n",
    "            nn.Conv2d(32,64,4,2), nn.ReLU(),\n",
    "            nn.Conv2d(64,64,3,1), nn.ReLU(),\n",
    "        )\n",
    "\n",
    "        with torch.no_grad():\n",
    "            dummy = torch.zeros(1,c,h,w)\n",
    "            conv_out = self.conv(dummy).view(1,-1).shape[1]\n",
    "        self.fc = nn.Sequential(\n",
    "            nn.Linear(conv_out, latent_dim),\n",
    "            nn.ReLU(),\n",
    "        )\n",
    "\n",
    "    def forward(self, x):\n",
    "        x = x /255.0\n",
    "        x = self.conv(x)\n",
    "        x = x.view(x.size(0), -1)\n",
    "        return self.fc(x)"
   ]
  },
  {
   "cell_type": "code",
   "execution_count": 10,
   "metadata": {},
   "outputs": [],
   "source": [
    "class SkillEmbedding(nn.Module):\n",
    "    def __init__(self, num_skills, embed_dim):\n",
    "        super().__init__()\n",
    "        self.skill_embedding = nn.Embedding(num_skills, embed_dim)\n",
    "        \n",
    "    def forward(self, skill):\n",
    "        return self.skill_embedding(skill)"
   ]
  },
  {
   "cell_type": "code",
   "execution_count": 11,
   "metadata": {},
   "outputs": [],
   "source": [
    "class TransformerPolicy(nn.Module):\n",
    "    def __init__(self, input_dim, skill_dim, action_dim, seq_len, nhead=4, nlayers = 2):\n",
    "        super().__init__()\n",
    "        self.skill_dim = skill_dim\n",
    "        self.seq_len = seq_len\n",
    "        self.input_proj = nn.Linear(input_dim+skill_dim, input_dim)\n",
    "\n",
    "        encoder_layer = nn.TransformerEncoderLayer(d_model=input_dim, nhead=nhead)\n",
    "        self.transformer = nn.TransformerEncoder(encoder_layer, num_layers=nlayers)\n",
    "\n",
    "        self.action_head = nn.Sequential(\n",
    "            nn.Linear(input_dim, 128),\n",
    "            nn.ReLU(),\n",
    "            nn.Linear(128, action_dim),\n",
    "            nn.Tanh()\n",
    "        )\n",
    "\n",
    "    def forward(self, x, skill_embeddings):\n",
    "        input = torch.cat([x, skill_embeddings], dim=-1)\n",
    "        input = self.input_proj(input)\n",
    "\n",
    "        x = input.permute(1,0,2)\n",
    "        out = self.transformer(x)\n",
    "\n",
    "        final_token = out[-1]\n",
    "        action = self.action_head(final_token)\n",
    "        return action\n"
   ]
  },
  {
   "cell_type": "code",
   "execution_count": 15,
   "metadata": {},
   "outputs": [],
   "source": [
    "class TransformerOptionAgent:\n",
    "    def __init__(self, image_shape, num_skills, action_dim, latent_dim=64, seq_len=10):\n",
    "        self.encoder = ConvEncoder(image_shape, latent_dim)\n",
    "        self.skill_embedding = SkillEmbedding(num_skills, latent_dim)\n",
    "        \n",
    "        self.policy = TransformerPolicy(latent_dim, latent_dim, action_dim, seq_len)\n",
    "\n",
    "        self.seq_len = seq_len\n",
    "        self.num_skills = num_skills    \n",
    "        self.skill_dist = torch.distributions.Categorical(torch.ones(num_skills) / num_skills)\n",
    "\n",
    "\n",
    "    def sample_skill(self):\n",
    "        return self.skill_dist.sample((1,)).item()\n",
    "    \n",
    "    def act(self,obs_seq, skill_seq):\n",
    "        obs_seq = torch.stack(obs_seq).float()\n",
    "        skill_seq = torch.tensor(skill_seq, dtype=torch.long)\n",
    "\n",
    "        z = self.skill_embedding(skill_seq)\n",
    "        x = self.encoder(obs_seq)\n",
    "        x = x.unsqueeze(0)\n",
    "        z = z.unsqueeze(0)\n",
    "\n",
    "        action = self.policy(x, z)\n",
    "        return action[0].detach().numpy()"
   ]
  },
  {
   "cell_type": "code",
   "execution_count": null,
   "metadata": {},
   "outputs": [],
   "source": [
    "def preprocess(obs):\n",
    "    return torch.tensor(obs, dtype=torch.float32).permute(2,0,1)\n",
    "\n",
    "def rollout_episode(env, agent, seq_len=10):\n",
    "    obs_seq, skill_seq = [],[]\n",
    "    skill = agent.sample_skill()\n",
    "    obs, _ = env.reset()\n",
    "    total_reward = 0\n",
    "    for t in range(seq_len):\n",
    "        obs_tensor = preprocess(obs)\n",
    "        obs_seq.append(obs_tensor)\n",
    "        skill_seq.append(skill)\n",
    "\n",
    "        if len(obs_seq) < seq_len:\n",
    "            action = env.action_space.sample()\n",
    "        else:\n",
    "            action = agent.act(obs_seq[-seq_len:], skill_seq[-seq_len:])\n",
    "\n",
    "        obs, reward, terminated, truncated, _ = env.step(action)\n",
    "        total_reward += reward\n",
    "        if terminated or truncated:\n",
    "            break\n",
    "\n",
    "    return total_reward"
   ]
  },
  {
   "cell_type": "code",
   "execution_count": 17,
   "metadata": {},
   "outputs": [
    {
     "name": "stderr",
     "output_type": "stream",
     "text": [
      "/home/fede/miniconda3/envs/procgen/lib/python3.10/site-packages/torch/nn/modules/transformer.py:306: UserWarning: enable_nested_tensor is True, but self.use_nested_tensor is False because encoder_layer.self_attn.batch_first was not True(use batch_first for better inference performance)\n",
      "  warnings.warn(f\"enable_nested_tensor is True, but self.use_nested_tensor is False because {why_not_sparsity_fast_path}\")\n"
     ]
    },
    {
     "name": "stdout",
     "output_type": "stream",
     "text": [
      "Episode 0: Total Reward: 5.622516556291394\n",
      "Episode 1: Total Reward: 6.692307692307696\n",
      "Episode 2: Total Reward: 6.662835249042149\n",
      "Episode 3: Total Reward: 5.993006993006997\n",
      "Episode 4: Total Reward: 5.688963210702345\n",
      "Episode 5: Total Reward: 6.092198581560287\n",
      "Episode 6: Total Reward: 6.722007722007725\n",
      "Episode 7: Total Reward: 5.535947712418304\n",
      "Episode 8: Total Reward: 5.289308176100633\n",
      "Episode 9: Total Reward: 5.9686411149825815\n",
      "Episode 10: Total Reward: 5.688963210702345\n",
      "Episode 11: Total Reward: 6.220216606498198\n",
      "Episode 12: Total Reward: 6.142857142857147\n",
      "Episode 13: Total Reward: 5.802721088435377\n",
      "Episode 14: Total Reward: 5.920415224913499\n",
      "Episode 15: Total Reward: 5.944444444444448\n",
      "Episode 16: Total Reward: 6.092198581560287\n",
      "Episode 17: Total Reward: 6.272727272727276\n",
      "Episode 18: Total Reward: 5.472491909385117\n",
      "Episode 19: Total Reward: 5.3091482649842305\n",
      "Episode 20: Total Reward: 6.380073800738011\n",
      "Episode 21: Total Reward: 6.220216606498198\n",
      "Episode 22: Total Reward: 5.211180124223606\n",
      "Episode 23: Total Reward: 5.993006993006997\n",
      "Episode 24: Total Reward: 5.349206349206352\n",
      "Episode 25: Total Reward: 6.220216606498198\n",
      "Episode 26: Total Reward: 5.349206349206352\n",
      "Episode 27: Total Reward: 6.092198581560287\n",
      "Episode 28: Total Reward: 6.326007326007329\n",
      "Episode 29: Total Reward: 5.369426751592361\n",
      "Episode 30: Total Reward: 5.6666666666666705\n",
      "Episode 31: Total Reward: 5.944444444444448\n",
      "Episode 32: Total Reward: 5.410256410256414\n",
      "Episode 33: Total Reward: 5.779661016949156\n",
      "Episode 34: Total Reward: 5.153846153846158\n",
      "Episode 35: Total Reward: 5.430868167202576\n",
      "Episode 36: Total Reward: 6.326007326007329\n",
      "Episode 37: Total Reward: 5.825938566552905\n",
      "Episode 38: Total Reward: 6.662835249042149\n",
      "Episode 39: Total Reward: 6.067137809187282\n",
      "Episode 40: Total Reward: 5.944444444444448\n",
      "Episode 41: Total Reward: 6.246376811594207\n",
      "Episode 42: Total Reward: 5.9686411149825815\n",
      "Episode 43: Total Reward: 5.896551724137934\n",
      "Episode 44: Total Reward: 5.756756756756761\n",
      "Episode 45: Total Reward: 6.017543859649126\n",
      "Episode 46: Total Reward: 5.734006734006738\n",
      "Episode 47: Total Reward: 6.299270072992704\n",
      "Episode 48: Total Reward: 6.272727272727276\n",
      "Episode 49: Total Reward: 6.092198581560287\n"
     ]
    },
    {
     "data": {
      "image/png": "[encoded data removed]",
      "text/plain": [
       "<Figure size 640x480 with 1 Axes>"
      ]
     },
     "metadata": {},
     "output_type": "display_data"
    }
   ],
   "source": [
    "import matplotlib.pyplot as plt\n",
    "\n",
    "env = gym.make(\"CarRacing-v2\", render_mode='rgb_array')\n",
    "agent = TransformerOptionAgent((3,96,96), num_skills=10, action_dim=3)\n",
    "rewards = []\n",
    "for ep in range(50):\n",
    "    r = rollout_episode(env, agent)\n",
    "    rewards.append(r)\n",
    "    print(f\"Episode {ep}: Total Reward: {r}\")\n",
    "\n",
    "plt.plot(rewards)\n",
    "plt.xlabel('Episode')\n",
    "plt.ylabel('Total Reward')\n",
    "plt.title('Rollout Rewards')\n",
    "plt.show()"
   ]
  },
  {
   "cell_type": "markdown",
   "metadata": {},
   "source": [
    "## Next Steps"
   ]
  },
  {
   "cell_type": "markdown",
   "metadata": {},
   "source": [
    "### Critic + Value Heads"
   ]
  },
  {
   "cell_type": "code",
   "execution_count": 18,
   "metadata": {},
   "outputs": [],
   "source": [
    "class Critic(nn.Module):\n",
    "    def __init__(self, input_dim, skill_dim):\n",
    "        super().__init__()\n",
    "        self.q1 = nn.Sequential(\n",
    "            nn.Linear(input_dim+skill_dim, 128),\n",
    "            nn.ReLU(),\n",
    "            nn.Linear(128, 1)\n",
    "        )\n",
    "\n",
    "        self.q2 = nn.Sequential(\n",
    "            nn.Linear(input_dim+skill_dim, 128),\n",
    "            nn.ReLU(),\n",
    "            nn.Linear(128, 1)\n",
    "        )\n",
    "\n",
    "    def forward(self, x, skill, action):\n",
    "        x = torch.cat([x, skill, action], dim=-1)\n",
    "        return self.q1(x), self.q2(x)"
   ]
  },
  {
   "cell_type": "markdown",
   "metadata": {},
   "source": [
    "### Learn skill Transitions via Entropy or Mutual Information\n",
    "Instead of assuming skill transitions are fixed, we make the skill selector learn:\n",
    "- Low entropy over short spans (temporal coherence)\n",
    "- High entropy over long spans (diversity)\n",
    "\n",
    "use intrinsic reward:\n",
    "$$r_{intrinsic} = \\log D(z|s) - \\log p(z)$$\n",
    "where:\n",
    "- $D(z|s)$ is the discriminator probability of skill given state\n",
    "- $p(z)$ is the prior distribution over skills"
   ]
  },
  {
   "cell_type": "markdown",
   "metadata": {},
   "source": [
    "### Replace Skill IDs with Continuous Latent Skills (DADS/VALOR)\n",
    "Discrete skills become:\n",
    "$$z_t \\in \\mathbb{R}^d, z_t \\sim p(z|h_{1:t-1})$$\n"
   ]
  },
  {
   "cell_type": "code",
   "execution_count": 76,
   "metadata": {},
   "outputs": [],
   "source": [
    "class SkillGenerator(nn.Module):\n",
    "    def __init__(self, latent_dim, skill_dim):\n",
    "        super().__init__()\n",
    "        self.fc = nn.Sequential(\n",
    "            nn.Linear(latent_dim, 128),\n",
    "            nn.ReLU(),\n",
    "            nn.Linear(128, skill_dim)\n",
    "        )\n",
    "\n",
    "    def forward(self, state_feat):\n",
    "        return self.fc(state_feat)\n",
    "# z = p(z|f(s))"
   ]
  },
  {
   "cell_type": "code",
   "execution_count": 77,
   "metadata": {},
   "outputs": [],
   "source": [
    "class TransformerPolicy(nn.Module):\n",
    "    def __init__(self, input_dim, skill_dim, action_dim, seq_len, nhead=4, nlayers = 2):\n",
    "        super().__init__()\n",
    "        self.input_proj = nn.Linear(input_dim+skill_dim, input_dim)\n",
    "\n",
    "        encoder_layer = nn.TransformerEncoderLayer(d_model=input_dim, nhead=nhead)\n",
    "        self.transformer = nn.TransformerEncoder(encoder_layer, num_layers=nlayers)\n",
    "\n",
    "        self.action_head = nn.Sequential(\n",
    "            nn.Linear(input_dim, 128),\n",
    "            nn.ReLU(),\n",
    "            nn.Linear(128, action_dim),\n",
    "            nn.Tanh()\n",
    "        )\n",
    "    def forward(self, x, skill_embeddings):\n",
    "        x = torch.cat([x, skill_embeddings], dim=-1)\n",
    "        x = self.input_proj(x)\n",
    "        x = x.permute(1,0,2)\n",
    "        out = self.transformer(x)\n",
    "        final_token = out[-1]\n",
    "        action = self.action_head(final_token), final_token\n",
    "        return action"
   ]
  },
  {
   "cell_type": "code",
   "execution_count": 78,
   "metadata": {},
   "outputs": [],
   "source": [
    "#Discriminator for MI rewards\n",
    "class SkillDiscriminator(nn.Module):\n",
    "    def __init__(self, state_dim, skill_dim):\n",
    "        super().__init__()\n",
    "        self.fc = nn.Sequential(\n",
    "            nn.Linear(state_dim, 128),\n",
    "            nn.ReLU(),\n",
    "            nn.Linear(128,skill_dim)\n",
    "        )\n",
    "\n",
    "    def forward(self, state_feat):\n",
    "        return self.fc(state_feat)"
   ]
  },
  {
   "cell_type": "code",
   "execution_count": 79,
   "metadata": {},
   "outputs": [],
   "source": [
    "class TransformerOptionAgent:\n",
    "    def __init__(self, image_shape, action_dim, latent_dim=64, skill_dim=16, seq_len=10):\n",
    "        self.encoder = ConvEncoder(image_shape, latent_dim)\n",
    "        self.skill_generator = SkillGenerator(latent_dim, skill_dim)\n",
    "\n",
    "        self.policy = TransformerPolicy(latent_dim, skill_dim, action_dim, seq_len)\n",
    "        self.critic = Critic(latent_dim, skill_dim)\n",
    "        self.target_critic = Critic(latent_dim, skill_dim)\n",
    "        self.target_critic.load_state_dict(self.critic.state_dict())\n",
    "\n",
    "        self.discriminator = SkillDiscriminator(latent_dim, skill_dim)\n",
    "\n",
    "        self.opt_policy = optim.Adam(self.policy.parameters(), lr=3e-4)\n",
    "        self.opt_critic = optim.Adam(self.critic.parameters(), lr=3e-4)\n",
    "        self.opt_disc = optim.Adam(self.discriminator.parameters(), lr=3e-4)\n",
    "\n",
    "        self.seq_len = seq_len\n",
    "        self.gamma = 0.99\n",
    "        self.tau = 0.005\n",
    "        self.alpha = .2\n",
    "\n",
    "    def compute_intrinsic_reward(self, state_feat, skill):\n",
    "        logits = self.discriminator(state_feat)\n",
    "        log_probs = F.log_softmax(logits, dim=-1)\n",
    "        prior = torch.log(torch.tensor(1.0 / logits.shape[-1]))\n",
    "        return (log_probs - skill).sum(dim=-1) - prior"
   ]
  },
  {
   "cell_type": "code",
   "execution_count": 80,
   "metadata": {},
   "outputs": [],
   "source": [
    "def update_sac(agent, state_seq, skill_seq, actions, rewards, next_state_seq, skill_seq_next, dones):\n",
    "    rewards = rewards.unsqueeze(1)\n",
    "    dones = dones.unsqueeze(1)\n",
    "\n",
    "    with torch.no_grad():\n",
    "        next_action,next_feat = agent.policy(next_state_seq, skill_seq_next)\n",
    "        q1_next, q2_next = agent.target_critic(next_feat, next_action)\n",
    "        target_q = torch.min(q1_next, q2_next)\n",
    "        target_val = rewards + (1-dones) * agent.gamma * target_q\n",
    "\n",
    "    with torch.no_grad():\n",
    "        _, curr_feat = agent.policy(state_seq, skill_seq)\n",
    "\n",
    "    q1,q2 = agent.critic(state_seq, skill_seq, actions)\n",
    "    critic_loss = F.mse_loss(q1, target_val) + F.mse_loss(q2, target_val)\n",
    "\n",
    "    agent.opt_critic.zero_grad()\n",
    "    critic_loss.backward()\n",
    "    agent.opt_critic.step()\n",
    "\n",
    "    new_action, state_feat = agent.policy(state_seq, skill_seq)\n",
    "    q1,q2 = agent.critic(state_seq, skill_seq, new_action)\n",
    "    min_q = torch.min(q1,q2)\n",
    "\n",
    "    log_pi = torch.log_softmax(new_action, dim=-1)\n",
    "    policy_loss = (agent.alpha * log_pi - min_q).mean()\n",
    "    agent.opt_policy.zero_grad()\n",
    "    policy_loss.backward()\n",
    "    agent.opt_policy.step()\n",
    "\n",
    "    with torch.no_grad():\n",
    "        for p, tp in zip(agent.critic.parameters(), agent.target_critic.parameters()):\n",
    "            tp.data.mul_(1 - agent.tau)\n",
    "            tp.data.add_(agent.tau * p.data)\n",
    "\n",
    "    return critic_loss.item(), policy_loss.item()"
   ]
  },
  {
   "cell_type": "code",
   "execution_count": 81,
   "metadata": {},
   "outputs": [],
   "source": [
    "def update_discriminator(agent, state_feats, skill_vectors):\n",
    "    logits = agent.discriminator(state_feats)\n",
    "    labels = skill_vectors.detach()\n",
    "    loss = F.mse_loss(logits, labels)\n",
    "\n",
    "    agent.opt_disc.zero_grad()\n",
    "    loss.backward()\n",
    "    agent.opt_disc.step()\n",
    "    return loss.item()"
   ]
  },
  {
   "cell_type": "code",
   "execution_count": 82,
   "metadata": {},
   "outputs": [
    {
     "name": "stderr",
     "output_type": "stream",
     "text": [
      "/home/fede/miniconda3/envs/procgen/lib/python3.10/site-packages/torch/nn/modules/transformer.py:306: UserWarning: enable_nested_tensor is True, but self.use_nested_tensor is False because encoder_layer.self_attn.batch_first was not True(use batch_first for better inference performance)\n",
      "  warnings.warn(f\"enable_nested_tensor is True, but self.use_nested_tensor is False because {why_not_sparsity_fast_path}\")\n"
     ]
    }
   ],
   "source": [
    "from collections import deque\n",
    "agent = TransformerOptionAgent((3,96,96), action_dim = env.action_space.shape[0], latent_dim=64, skill_dim=16, seq_len=10)\n",
    "replay_buffer = deque(maxlen=100000)"
   ]
  },
  {
   "cell_type": "code",
   "execution_count": 83,
   "metadata": {},
   "outputs": [],
   "source": [
    "def preprocess(obs):\n",
    "    return torch.tensor(obs, dtype=torch.float32).permute(2,0,1)"
   ]
  },
  {
   "cell_type": "code",
   "execution_count": 96,
   "metadata": {},
   "outputs": [],
   "source": [
    "def collect_eps(env, agent, seq_len=10):\n",
    "\n",
    "    obs, _ = env.reset()\n",
    "    done = False\n",
    "    ep_reward = 0\n",
    "    obs_seq, skill_seq = [],[]\n",
    "\n",
    "    buffer = []\n",
    "\n",
    "    while not done:\n",
    "        obs_tensor = preprocess(obs)\n",
    "        feat = agent.encoder(obs_tensor.unsqueeze(0)).squeeze(0)\n",
    "        skill = agent.skill_generator(feat)\n",
    "\n",
    "        obs_seq.append(obs_tensor) \n",
    "        skill_seq.append(skill.squeeze(0))\n",
    "\n",
    "        if len(obs_seq) < seq_len:\n",
    "            action = env.action_space.sample()\n",
    "        else:\n",
    "            # Encode observation sequence\n",
    "            x_seq = torch.stack(obs_seq[-seq_len:])  # (T, C, H, W)\n",
    "            x_seq_encoded = agent.encoder(x_seq)   # (1, T, latent_dim)\n",
    "\n",
    "            # Skills must be stacked and reshaped\n",
    "            s_seq = torch.stack(skill_seq[-seq_len:])  # (T, latent_dim)\n",
    "            s_seq = s_seq.unsqueeze(0)                            # (1, T, latent_dim)\n",
    "\n",
    "            # Forward pass\n",
    "            x_seq_encoded = x_seq_encoded.unsqueeze(0)   # (1, T, latent_dim)\n",
    "            action,_ = agent.policy(x_seq_encoded, s_seq)        # Output: (1, A)\n",
    "            action = action.squeeze(0).cpu().detach().numpy()\n",
    "\n",
    "        next_obs, reward, terminated, truncated, _ = env.step(action)\n",
    "        done = terminated or truncated\n",
    "        ep_reward += reward\n",
    "\n",
    "        buffer.append((obs,action, reward, next_obs, float(done)))\n",
    "\n",
    "        obs = next_obs\n",
    "\n",
    "    for i in range(len(buffer)-seq_len):\n",
    "        traj = buffer[i:i+seq_len+1]\n",
    "        obs_seq = [preprocess(x[0]) for x in traj[:-1]]\n",
    "        next_obs_seq = [preprocess(x[3]) for x in traj[1:]]\n",
    "        act_seq = torch.tensor([x[1] for x in traj[:-1]], dtype=torch.float32)\n",
    "        reward_seq = torch.tensor([x[2] for x in traj[:-1]], dtype=torch.float32)\n",
    "        done_seq = torch.tensor([x[4] for x in traj[:-1]], dtype=torch.float32)\n",
    "\n",
    "        replay_buffer.append((obs_seq, act_seq, reward_seq, next_obs_seq, done_seq))\n",
    "    return ep_reward"
   ]
  },
  {
   "cell_type": "code",
   "execution_count": 97,
   "metadata": {},
   "outputs": [],
   "source": [
    "import random\n",
    "def sample_batch(buffer, batch_size, seq_len):\n",
    "    batch = random.sample(buffer, batch_size)\n",
    "    obs_seq, act_seq, rew_seq, next_obs_seq, done_seq = zip(*batch)\n",
    "\n",
    "    obs_seq = [torch.stack(x) for x in obs_seq]\n",
    "    next_obs_seq = [torch.stack(x) for x in next_obs_seq]\n",
    "\n",
    "    obs_batch = torch.stack(obs_seq)\n",
    "    next_obs_batch = torch.stack(next_obs_seq)\n",
    "    act_batch = torch.stack(act_seq)\n",
    "    rew_batch = torch.stack(rew_seq)\n",
    "    done_batch = torch.stack(done_seq)\n",
    "\n",
    "    return obs_batch, act_batch, rew_batch, next_obs_batch, done_batch"
   ]
  },
  {
   "cell_type": "code",
   "execution_count": 98,
   "metadata": {},
   "outputs": [],
   "source": [
    "def train_Step(agent, buffer, batch_size=32):\n",
    "    obs_batch, act_batch, rew_batch, next_obs_batch, done_batch = sample_batch(buffer, batch_size, agent.seq_len)\n",
    "\n",
    "    with torch.no_grad():\n",
    "        feat_batch = agent.encoder(obs_batch.view(-1, 3, 96, 96).view(batch_size, agent.seq_len, -1))\n",
    "        next_feat_batch = agent.encoder(next_obs_batch.view(-1, 3, 96, 96).view(batch_size, agent.seq_len, -1))\n",
    "\n",
    "    skill_seq = agent.skill_generator(feat_batch[:, -1]).unsqueeze(1).expand(-1, agent.seq_len, -1)\n",
    "    skill_seq_next = agent.skill_generator(next_feat_batch[:, -1]).unsqueeze(1).expand(-1, agent.seq_len, -1)\n",
    "\n",
    "    critic_loss, actor_loss = update_sac(agent, feat_batch, skill_seq, act_batch, rew_batch, next_feat_batch, skill_seq_next, done_batch)\n",
    "    with torch.no_grad():\n",
    "        skill_targets = skill_seq[:, -1]  # most recent skill\n",
    "\n",
    "    disc_input = feat_batch[:, -1]\n",
    "    disc_loss = update_discriminator(agent, disc_input, skill_targets)\n",
    "    return critic_loss, actor_loss"
   ]
  },
  {
   "cell_type": "code",
   "execution_count": null,
   "metadata": {},
   "outputs": [],
   "source": [
    "rewards = []\n",
    "for ep in range(100):\n",
    "    r = collect_eps(env, agent)\n",
    "    rewards.append(r)\n",
    "\n",
    "    if len(replay_buffer)> 500:\n",
    "        for _ in range(10):\n",
    "            critic_loss, actor_loss = train_Step(agent, replay_buffer, batch_size=32)\n",
    "    print(f\"Episode {ep}: Total Reward: {r}, Critic Loss: {critic_loss:.4f}, Actor Loss: {actor_loss:.4f}\")\n",
    "\n",
    "plt.plot(rewards)\n",
    "plt.xlabel('Episode')\n",
    "plt.ylabel('Total Reward')\n",
    "plt.title('Rollout Rewards')\n",
    "plt.grid()\n",
    "plt.show()\n"
   ]
  },
  {
   "cell_type": "code",
   "execution_count": null,
   "metadata": {},
   "outputs": [],
   "source": []
  }
 ],
 "metadata": {
  "kernelspec": {
   "display_name": "procgen",
   "language": "python",
   "name": "python3"
  },
  "language_info": {
   "codemirror_mode": {
    "name": "ipython",
    "version": 3
   },
   "file_extension": ".py",
   "mimetype": "text/x-python",
   "name": "python",
   "nbconvert_exporter": "python",
   "pygments_lexer": "ipython3",
   "version": "3.10.14"
  }
 },
 "nbformat": 4,
 "nbformat_minor": 2
}
