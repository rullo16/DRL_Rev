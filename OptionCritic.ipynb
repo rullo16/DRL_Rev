{
 "cells": [
  {
   "cell_type": "markdown",
   "id": "7c70c818",
   "metadata": {},
   "source": [
    "# Option-Critic"
   ]
  },
  {
   "cell_type": "markdown",
   "id": "6f8dbd91",
   "metadata": {},
   "source": [
    "Addresses the fundamental limitation of RL methods: their inabiliy to naturally handle temporal abstraction. Humans chunk complex tasks into simpler subtasks; Option-Critic formalizes this by introducing options, temporally extended actions, to traditional RL frameworks.\n"
   ]
  },
  {
   "cell_type": "markdown",
   "id": "eb7ad43c",
   "metadata": {},
   "source": [
    "Options are defined by three components:\n",
    "- a policy $\\pi°$: specifies how the agent acts while following an option\n",
    "- Initiation set $I°$: States from which an option may begin\n",
    "- Termination Condition $\\beta°$: Probability of an option terminating at each state.\n",
    "The Option-Critic architecture simultaneously learns:\n",
    "- Option policies $\\pi°$ deciding actions during an option\n",
    "- Termination conditions $\\beta°$ when to stop following an option\n",
    "- Policy over options $\\pi\\_\\Omega$ how to select among multiple options."
   ]
  },
  {
   "cell_type": "markdown",
   "id": "46c93862",
   "metadata": {},
   "source": [
    "## Math"
   ]
  },
  {
   "cell_type": "markdown",
   "id": "f09c4298",
   "metadata": {},
   "source": [
    "An option $o$ is defined formally as a triple:\n",
    "$$o = <I°, \\pi°(a|s), \\beta°(s)>$$\n",
    "- $I°\\sube S$: initiation set of options\n",
    "- $\\pi°(a|s)$: policy within the option\n",
    "- $\\beta°(s) \\in [0,1]$: termination condition of the option  "
   ]
  },
  {
   "cell_type": "markdown",
   "id": "67bb1b5a",
   "metadata": {},
   "source": [
    "Option-Critic Objective:"
   ]
  },
  {
   "cell_type": "markdown",
   "id": "91932231",
   "metadata": {},
   "source": [
    "Given a set of options $O$, the objective is maximizing expected return:\n",
    "$$J(\\theta) = \\mathbb{E}[\\sum_{t=0}^\\infty \\gamma^t r(s_t,a_t)]$$\n"
   ]
  },
  {
   "cell_type": "markdown",
   "id": "943f753e",
   "metadata": {},
   "source": [
    "Bellman Equation for Options:"
   ]
  },
  {
   "cell_type": "markdown",
   "id": "a43c2eb2",
   "metadata": {},
   "source": [
    "The option-value function $Q_\\Omega(s,o)$:\n",
    "$$Q_\\Omega(s,o) = \\sum_a\\pi°(a|s)[r(s,a)+\\gamma\\sum_{s'}P(s'|s,a)U_\\Omega(s',o)]$$\n",
    "Where the option utility function $U_\\Omega(s,o)$ is defined as:\n",
    "$$U_\\Omega(s',o) = (1-\\beta°(s'))Q_\\Omega(s',o) + \\beta°(s')V_\\Omega(s')$$\n",
    "Where $V_\\Omega(s')$ is the state-value function for the option:\n",
    "$$V_\\Omega(s',o) = \\sum_o \\pi_\\Omega(o|s)Q_\\Omega(s,o)$$"
   ]
  },
  {
   "cell_type": "markdown",
   "id": "3a3bd4be",
   "metadata": {},
   "source": [
    "Policy Gradient for Options:\n",
    "The policy gradient for options can be derived as:\n",
    "- For intra-option policy $\\pi°$ (policy within the option):\n",
    "$$\\nabla_{\\theta_\\beta°}J = \\mathbb{E}[\\sum_t \\gamma^t \\nabla_{\\theta_\\beta°} \\beta°(s_{t+1})-Q_\\Omega(s_{t+1}, o_t)]$$\n",
    "These gradients adjust how the agent picks actions an when it terminates options, based on expected advantage."
   ]
  },
  {
   "cell_type": "markdown",
   "id": "ed2fa7c1",
   "metadata": {},
   "source": [
    "## Implementation"
   ]
  },
  {
   "cell_type": "code",
   "execution_count": 5,
   "id": "7e369e1b",
   "metadata": {},
   "outputs": [],
   "source": [
    "import torch\n",
    "import torch.nn as nn\n",
    "import torch.optim as optim\n",
    "\n",
    "# Option policy network per option\n",
    "class OptionPolicy(nn.Module):\n",
    "    def __init__(self, state_dim, action_dim, num_options):\n",
    "        super().__init__()\n",
    "        self.option_nets = nn.ModuleList([\n",
    "            nn.Sequential(\n",
    "                nn.Linear(state_dim, 128),\n",
    "                nn.ReLU(),\n",
    "                nn.Linear(128, action_dim),\n",
    "                nn.Softmax(dim=-1)\n",
    "            ) for _ in range(num_options)\n",
    "        ])\n",
    "\n",
    "    def forward(self, state, option):\n",
    "        return self.option_nets[option](state)\n",
    "\n",
    "# Termination network\n",
    "class Termination(nn.Module):\n",
    "    def __init__(self, state_dim, num_options):\n",
    "        super().__init__()\n",
    "        self.net = nn.Sequential(\n",
    "            nn.Linear(state_dim, 128),\n",
    "            nn.ReLU(),\n",
    "            nn.Linear(128, num_options),\n",
    "            nn.Sigmoid()\n",
    "        )\n",
    "\n",
    "    def forward(self, state):\n",
    "        return self.net(state)\n",
    "\n",
    "# Q-value over options and high-level option policy\n",
    "class OptionCritic(nn.Module):\n",
    "    def __init__(self, state_dim, action_dim, num_options):\n",
    "        super().__init__()\n",
    "        self.num_options = num_options\n",
    "        self.q_option = nn.Sequential(\n",
    "            nn.Linear(state_dim, 128), nn.ReLU(),\n",
    "            nn.Linear(128, num_options)\n",
    "        )\n",
    "        self.pi_o = nn.Sequential(\n",
    "            nn.Linear(state_dim, 128), nn.ReLU(),\n",
    "            nn.Linear(128, num_options),\n",
    "            nn.Softmax(dim=-1)\n",
    "        )\n",
    "        self.termination = Termination(state_dim, num_options)\n",
    "        self.option_policy = OptionPolicy(state_dim, action_dim, num_options)\n",
    "\n",
    "    def get_action(self, state, option):\n",
    "        with torch.no_grad():\n",
    "            probs = self.option_policy(state, option)\n",
    "            return torch.multinomial(probs, 1).item()\n",
    "\n",
    "    def get_option(self, state):\n",
    "        with torch.no_grad():\n",
    "            option_probs = self.pi_o(state)\n",
    "            return torch.multinomial(option_probs, 1).item()"
   ]
  },
  {
   "cell_type": "code",
   "execution_count": 6,
   "id": "2d550477",
   "metadata": {},
   "outputs": [],
   "source": [
    "from collections import deque\n",
    "import random\n",
    "import numpy as np\n",
    "\n",
    "class ReplayBuffer:\n",
    "    def __init__(self, capacity=100000):\n",
    "        self.buffer = deque(maxlen=capacity)\n",
    "\n",
    "    def push(self, transition):\n",
    "        self.buffer.append(transition)\n",
    "\n",
    "    def sample(self, batch_size):\n",
    "        batch = random.sample(self.buffer, batch_size)\n",
    "        return map(np.array, zip(*batch))"
   ]
  },
  {
   "cell_type": "code",
   "execution_count": 7,
   "id": "05ec8f1f",
   "metadata": {},
   "outputs": [],
   "source": [
    "class OptionCriticTrainer:\n",
    "    def __init__(self, env, model, buffer, batch_size=64, gamma=0.99):\n",
    "        self.env = env\n",
    "        self.model = model\n",
    "        self.buffer = buffer\n",
    "        self.batch_size = batch_size\n",
    "        self.gamma = gamma\n",
    "        self.optimizer = optim.Adam(model.parameters(), lr=0.001)\n",
    "\n",
    "    def train_step(self):\n",
    "        if len(self.buffer.buffer) < self.batch_size:\n",
    "            return\n",
    "        \n",
    "        states, actions, rewards, next_states, dones, options = self.buffer.sample(self.batch_size)\n",
    "        states = torch.tensor(states, dtype=torch.float32)\n",
    "        actions = torch.tensor(actions, dtype=torch.int64).unsqueeze(1)\n",
    "        rewards = torch.tensor(rewards, dtype=torch.float32).unsqueeze(1)\n",
    "        next_states = torch.tensor(next_states, dtype=torch.float32)\n",
    "        dones = torch.tensor(dones, dtype=torch.float32).unsqueeze(1)\n",
    "        options = torch.tensor(options, dtype=torch.int64).unsqueeze(1)\n",
    "\n",
    "        q_values = self.model.q_option(states).gather(1,options)\n",
    "        next_q = self.model.q_option(next_states).max(1, keepdim=True)[0].detach()\n",
    "        targets = rewards + self.gamma * (1-dones) * next_q\n",
    "\n",
    "        loss = nn.MSELoss()(q_values, targets)\n",
    "\n",
    "        self.optimizer.zero_grad()\n",
    "        loss.backward()\n",
    "        self.optimizer.step()"
   ]
  },
  {
   "cell_type": "code",
   "execution_count": 8,
   "id": "ae3ca221",
   "metadata": {},
   "outputs": [],
   "source": [
    "class DummyEnv:\n",
    "    def __init__(self, state_dim, action_dim):\n",
    "        self.state_dim = state_dim\n",
    "        self.action_dim = action_dim\n",
    "\n",
    "    def reset(self):\n",
    "        return np.random.randn(self.state_dim)\n",
    "\n",
    "    def step(self, action):\n",
    "        next_state = np.random.randn(self.state_dim)\n",
    "        reward = np.random.rand()\n",
    "        done = np.random.rand() > 0.95\n",
    "        return next_state, reward, done, {}\n",
    "\n",
    "def run_training(env, agent, trainer, episodes=100):\n",
    "    for episode in range(episodes):\n",
    "        state = torch.tensor(env.reset(), dtype=torch.float32)\n",
    "        option = agent.get_option(state)\n",
    "\n",
    "        for t in range(200):\n",
    "            action = agent.get_action(state, option)\n",
    "            next_state_np, reward, done, _ = env.step(action)\n",
    "            next_state = torch.tensor(next_state_np, dtype=torch.float32)\n",
    "\n",
    "            # Termination decision\n",
    "            term_prob = agent.termination(next_state)[option].item()\n",
    "            terminate = torch.bernoulli(torch.tensor(term_prob)).item() == 1.0\n",
    "\n",
    "            trainer.buffer.push((state.numpy(), action, reward, next_state.numpy(), done, option))\n",
    "            trainer.train_step()\n",
    "\n",
    "            if done or terminate:\n",
    "                option = agent.get_option(next_state)\n",
    "            state = next_state\n",
    "\n",
    "            if done:\n",
    "                break\n",
    "\n",
    "# Setup\n",
    "state_dim = 10\n",
    "action_dim = 4\n",
    "num_options = 2\n",
    "\n",
    "env = DummyEnv(state_dim, action_dim)\n",
    "model = OptionCritic(state_dim, action_dim, num_options)\n",
    "buffer = ReplayBuffer()\n",
    "trainer = OptionCriticTrainer(env, model, buffer)\n",
    "\n",
    "run_training(env, model, trainer, episodes=10)\n"
   ]
  },
  {
   "cell_type": "code",
   "execution_count": null,
   "id": "a4eaf162",
   "metadata": {},
   "outputs": [],
   "source": []
  }
 ],
 "metadata": {
  "kernelspec": {
   "display_name": "procgen",
   "language": "python",
   "name": "python3"
  },
  "language_info": {
   "codemirror_mode": {
    "name": "ipython",
    "version": 3
   },
   "file_extension": ".py",
   "mimetype": "text/x-python",
   "name": "python",
   "nbconvert_exporter": "python",
   "pygments_lexer": "ipython3",
   "version": "3.10.14"
  }
 },
 "nbformat": 4,
 "nbformat_minor": 5
}
